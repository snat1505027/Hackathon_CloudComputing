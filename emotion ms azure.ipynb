{
 "cells": [
  {
   "cell_type": "code",
   "execution_count": 16,
   "metadata": {
    "collapsed": true
   },
   "outputs": [],
   "source": [
    "subscription_key = \"bcc7fab5ad1c4472a2273872cef0bd21\" #DSFace API\n",
    "face_api_url = 'https://southeastasia.api.cognitive.microsoft.com/face/v1.0/detect'\n",
    "\n",
    "\n",
    "def config():\n",
    "    print(\"Call Config\")\n",
    "    return subscription_key, face_api_url"
   ]
  },
  {
   "cell_type": "code",
   "execution_count": 17,
   "metadata": {
    "collapsed": true
   },
   "outputs": [],
   "source": [
    "import requests\n",
    "from PIL import Image\n",
    "import os\n",
    "#import FaceAPIConfig as cnfg\n",
    "\n",
    "image_path = os.path.join('D:\\hackathon csefest2019\\smiling face.jpg')\n",
    "image_data = open(image_path, \"rb\")\n"
   ]
  },
  {
   "cell_type": "code",
   "execution_count": 18,
   "metadata": {},
   "outputs": [
    {
     "data": {
      "text/plain": [
       "'\\nfor e in faces:\\n    print(e+\" \"+faces[e])'"
      ]
     },
     "execution_count": 18,
     "metadata": {},
     "output_type": "execute_result"
    }
   ],
   "source": [
    "headers = {'Content-Type': 'application/octet-stream',\n",
    "           'Ocp-Apim-Subscription-Key': subscription_key}\n",
    "\n",
    "params = {\n",
    "    'returnFaceId': 'true',\n",
    "    'returnFaceLandmarks': 'true',\n",
    "    'returnFaceAttributes': 'age,gender,headPose,smile,facialHair,glasses,emotion'\n",
    "}\n",
    "\n",
    "response = requests.post(face_api_url, params=params, headers=headers, data=image_data)\n",
    "response.raise_for_status()\n",
    "faces = response.json()\n",
    "\"\"\"\n",
    "for e in faces:\n",
    "    print(e+\" \"+faces[e])\"\"\""
   ]
  },
  {
   "cell_type": "code",
   "execution_count": 24,
   "metadata": {},
   "outputs": [
    {
     "data": {
      "text/plain": [
       "dict"
      ]
     },
     "execution_count": 24,
     "metadata": {},
     "output_type": "execute_result"
    }
   ],
   "source": [
    "type(faces[0])"
   ]
  },
  {
   "cell_type": "code",
   "execution_count": 28,
   "metadata": {},
   "outputs": [
    {
     "data": {
      "text/plain": [
       "{'faceAttributes': {'age': 18.0,\n",
       "  'emotion': {'anger': 0.0,\n",
       "   'contempt': 0.0,\n",
       "   'disgust': 0.0,\n",
       "   'fear': 0.0,\n",
       "   'happiness': 1.0,\n",
       "   'neutral': 0.0,\n",
       "   'sadness': 0.0,\n",
       "   'surprise': 0.0},\n",
       "  'facialHair': {'beard': 0.0, 'moustache': 0.0, 'sideburns': 0.0},\n",
       "  'gender': 'female',\n",
       "  'glasses': 'NoGlasses',\n",
       "  'headPose': {'pitch': 0.0, 'roll': -5.9, 'yaw': 5.2},\n",
       "  'smile': 1.0},\n",
       " 'faceId': '030c4d8a-587e-4bdc-9a63-42097c059697',\n",
       " 'faceLandmarks': {'eyeLeftBottom': {'x': 196.0, 'y': 104.8},\n",
       "  'eyeLeftInner': {'x': 202.0, 'y': 102.9},\n",
       "  'eyeLeftOuter': {'x': 190.1, 'y': 103.6},\n",
       "  'eyeLeftTop': {'x': 195.8, 'y': 100.8},\n",
       "  'eyeRightBottom': {'x': 235.5, 'y': 100.9},\n",
       "  'eyeRightInner': {'x': 228.9, 'y': 100.4},\n",
       "  'eyeRightOuter': {'x': 241.7, 'y': 98.9},\n",
       "  'eyeRightTop': {'x': 234.2, 'y': 96.6},\n",
       "  'eyebrowLeftInner': {'x': 205.6, 'y': 91.6},\n",
       "  'eyebrowLeftOuter': {'x': 177.6, 'y': 98.3},\n",
       "  'eyebrowRightInner': {'x': 226.6, 'y': 89.4},\n",
       "  'eyebrowRightOuter': {'x': 250.4, 'y': 90.1},\n",
       "  'mouthLeft': {'x': 196.5, 'y': 141.3},\n",
       "  'mouthRight': {'x': 238.4, 'y': 136.5},\n",
       "  'noseLeftAlarOutTip': {'x': 205.8, 'y': 125.0},\n",
       "  'noseLeftAlarTop': {'x': 209.7, 'y': 117.0},\n",
       "  'noseRightAlarOutTip': {'x': 232.7, 'y': 122.3},\n",
       "  'noseRightAlarTop': {'x': 228.0, 'y': 115.2},\n",
       "  'noseRootLeft': {'x': 210.9, 'y': 102.6},\n",
       "  'noseRootRight': {'x': 223.1, 'y': 101.6},\n",
       "  'noseTip': {'x': 221.0, 'y': 123.2},\n",
       "  'pupilLeft': {'x': 194.6, 'y': 102.5},\n",
       "  'pupilRight': {'x': 234.4, 'y': 98.7},\n",
       "  'underLipBottom': {'x': 221.7, 'y': 152.2},\n",
       "  'underLipTop': {'x': 220.8, 'y': 147.7},\n",
       "  'upperLipBottom': {'x': 219.9, 'y': 138.5},\n",
       "  'upperLipTop': {'x': 219.6, 'y': 135.9}},\n",
       " 'faceRectangle': {'height': 89, 'left': 173, 'top': 75, 'width': 89}}"
      ]
     },
     "execution_count": 28,
     "metadata": {},
     "output_type": "execute_result"
    }
   ],
   "source": [
    "faces[0]"
   ]
  },
  {
   "cell_type": "code",
   "execution_count": 29,
   "metadata": {},
   "outputs": [
    {
     "data": {
      "text/plain": [
       "{'anger': 0.0,\n",
       " 'contempt': 0.0,\n",
       " 'disgust': 0.0,\n",
       " 'fear': 0.0,\n",
       " 'happiness': 1.0,\n",
       " 'neutral': 0.0,\n",
       " 'sadness': 0.0,\n",
       " 'surprise': 0.0}"
      ]
     },
     "execution_count": 29,
     "metadata": {},
     "output_type": "execute_result"
    }
   ],
   "source": [
    "faces[0]['faceAttributes']['emotion']"
   ]
  },
  {
   "cell_type": "code",
   "execution_count": 30,
   "metadata": {},
   "outputs": [
    {
     "data": {
      "text/plain": [
       "1.0"
      ]
     },
     "execution_count": 30,
     "metadata": {},
     "output_type": "execute_result"
    }
   ],
   "source": [
    "faces[0]['faceAttributes']['smile']"
   ]
  },
  {
   "cell_type": "code",
   "execution_count": null,
   "metadata": {
    "collapsed": true
   },
   "outputs": [],
   "source": []
  }
 ],
 "metadata": {
  "kernelspec": {
   "display_name": "Python 3",
   "language": "python",
   "name": "python3"
  },
  "language_info": {
   "codemirror_mode": {
    "name": "ipython",
    "version": 3
   },
   "file_extension": ".py",
   "mimetype": "text/x-python",
   "name": "python",
   "nbconvert_exporter": "python",
   "pygments_lexer": "ipython3",
   "version": "3.6.3"
  }
 },
 "nbformat": 4,
 "nbformat_minor": 2
}
