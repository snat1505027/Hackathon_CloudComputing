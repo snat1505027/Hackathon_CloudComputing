{
 "cells": [
  {
   "cell_type": "code",
   "execution_count": 1,
   "metadata": {},
   "outputs": [],
   "source": [
    "def retrieve_image_data(img_url='D:\\hackathon csefest2019\\face_emo.jpg'):\n",
    "    import cognitive_face as CF\n",
    "    #import os\n",
    "    KEY = '57a0d5cba06246aab57b9b2bda34f596'  # Replace with a valid Subscription Key here.\n",
    "    CF.Key.set(KEY)\n",
    "    BASE_URL = 'https://southeastasia.api.cognitive.microsoft.com/face/v1.0'  # Replace with your regional Base URL\n",
    "    CF.BaseUrl.set(BASE_URL)\n",
    "    #img_url = 'https://raw.githubusercontent.com/Microsoft/Cognitive-Face-Windows/master/Data/detection1.jpg'\n",
    "    #img_url = os.path.join('D:\\hackathon csefest2019\\face_emo.jpg')\n",
    "    result = CF.face.detect(img_url,face_id=True,landmarks=True, attributes='smile,emotion,age,gender')\n",
    "    print(result)\n",
    "    return result"
   ]
  },
  {
   "cell_type": "code",
   "execution_count": 3,
   "metadata": {},
   "outputs": [],
   "source": [
    "def capture_image(img_url='face_emo.jpg'):\n",
    "    import cv2\n",
    "    camera = cv2.VideoCapture(0)\n",
    "    range_limit = 1\n",
    "    for i in range(range_limit):\n",
    "        return_value, image = camera.read()\n",
    "        #cv2.imwrite('opencv'+str(i)+'.png', image)\n",
    "        cv2.imwrite(img_url, image)\n",
    "    del(camera)\n",
    "    return img_url"
   ]
  },
  {
   "cell_type": "code",
   "execution_count": 9,
   "metadata": {},
   "outputs": [],
   "source": [
    "def emo_detector(img_url = 'face_emo.jpg'):\n",
    "    capture_image(img_url=img_url)\n",
    "    return retrieve_image_data(img_url=img_url)"
   ]
  },
  {
   "cell_type": "code",
   "execution_count": 10,
   "metadata": {},
   "outputs": [
    {
     "name": "stdout",
     "output_type": "stream",
     "text": [
      "[{'faceId': '3e29a33d-9bb1-425c-877c-d312908feaba', 'faceRectangle': {'top': 223, 'left': 329, 'width': 155, 'height': 155}, 'faceLandmarks': {'pupilLeft': {'x': 372.1, 'y': 263.6}, 'pupilRight': {'x': 440.3, 'y': 267.7}, 'noseTip': {'x': 408.8, 'y': 303.6}, 'mouthLeft': {'x': 374.8, 'y': 335.2}, 'mouthRight': {'x': 438.1, 'y': 339.5}, 'eyebrowLeftOuter': {'x': 344.4, 'y': 247.5}, 'eyebrowLeftInner': {'x': 394.4, 'y': 250.7}, 'eyeLeftOuter': {'x': 357.8, 'y': 264.8}, 'eyeLeftTop': {'x': 371.2, 'y': 260.6}, 'eyeLeftBottom': {'x': 371.6, 'y': 269.1}, 'eyeLeftInner': {'x': 383.5, 'y': 265.7}, 'eyebrowRightInner': {'x': 418.0, 'y': 252.4}, 'eyebrowRightOuter': {'x': 469.2, 'y': 250.7}, 'eyeRightInner': {'x': 426.8, 'y': 268.2}, 'eyeRightTop': {'x': 439.4, 'y': 264.3}, 'eyeRightBottom': {'x': 439.4, 'y': 273.0}, 'eyeRightOuter': {'x': 452.5, 'y': 268.6}, 'noseRootLeft': {'x': 397.8, 'y': 268.4}, 'noseRootRight': {'x': 418.6, 'y': 269.2}, 'noseLeftAlarTop': {'x': 395.6, 'y': 290.2}, 'noseRightAlarTop': {'x': 424.4, 'y': 292.9}, 'noseLeftAlarOutTip': {'x': 383.8, 'y': 303.6}, 'noseRightAlarOutTip': {'x': 430.5, 'y': 307.8}, 'upperLipTop': {'x': 409.0, 'y': 326.0}, 'upperLipBottom': {'x': 408.8, 'y': 334.4}, 'underLipTop': {'x': 407.2, 'y': 343.6}, 'underLipBottom': {'x': 405.9, 'y': 355.3}}, 'faceAttributes': {'smile': 0.061, 'gender': 'male', 'age': 35.0, 'emotion': {'anger': 0.0, 'contempt': 0.003, 'disgust': 0.0, 'fear': 0.0, 'happiness': 0.061, 'neutral': 0.926, 'sadness': 0.0, 'surprise': 0.009}}}]\n"
     ]
    }
   ],
   "source": [
    "all_ = emo_detector()"
   ]
  },
  {
   "cell_type": "code",
   "execution_count": 14,
   "metadata": {},
   "outputs": [
    {
     "data": {
      "text/plain": [
       "{'age': 35.0,\n",
       " 'emotion': {'anger': 0.0,\n",
       "  'contempt': 0.003,\n",
       "  'disgust': 0.0,\n",
       "  'fear': 0.0,\n",
       "  'happiness': 0.061,\n",
       "  'neutral': 0.926,\n",
       "  'sadness': 0.0,\n",
       "  'surprise': 0.009},\n",
       " 'gender': 'male',\n",
       " 'smile': 0.061}"
      ]
     },
     "execution_count": 14,
     "metadata": {},
     "output_type": "execute_result"
    }
   ],
   "source": [
    "all_[0]['faceAttributes']"
   ]
  },
  {
   "cell_type": "code",
   "execution_count": null,
   "metadata": {
    "collapsed": true
   },
   "outputs": [],
   "source": []
  }
 ],
 "metadata": {
  "kernelspec": {
   "display_name": "Python 3",
   "language": "python",
   "name": "python3"
  },
  "language_info": {
   "codemirror_mode": {
    "name": "ipython",
    "version": 3
   },
   "file_extension": ".py",
   "mimetype": "text/x-python",
   "name": "python",
   "nbconvert_exporter": "python",
   "pygments_lexer": "ipython3",
   "version": "3.6.3"
  }
 },
 "nbformat": 4,
 "nbformat_minor": 2
}
